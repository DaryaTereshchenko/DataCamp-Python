{
 "cells": [
  {
   "cell_type": "code",
   "execution_count": null,
   "metadata": {},
   "outputs": [],
   "source": [
    "# with open() as f --> context manager"
   ]
  },
  {
   "attachments": {},
   "cell_type": "markdown",
   "metadata": {},
   "source": [
    "To write a context manager:\n",
    "1. Define a function\n",
    "2. Add any set up code your context needs\n",
    "3. Use the yield keyword\n",
    "4. Add any teardown code your context needs\n",
    "5. Use the '@contextlib.contextmanager' decorator"
   ]
  },
  {
   "cell_type": "code",
   "execution_count": 3,
   "metadata": {},
   "outputs": [
    {
     "name": "stdout",
     "output_type": "stream",
     "text": [
      "Twitter’s paid plan Twitter Blue is now available to more than 20 new countries in Europe. These countries include Netherlands, Poland, Ireland, Belgium, Sweden, Romania, Czech Republic, Finland, Denmark, Greece, Austria, Hungary, Bulgaria, Lithuania, Slovakia, Latvia, Slovenia, Estonia, Croatia, Luxembourg, Malta, and Cyprus.\n",
      "\n",
      "This expansion makes the social network’s subscription service available in more than 35 countries across the world. Under Elon Musk, Twitter Blue was first launched back in December at an $8 per month price point with the Blue verification mark for paying users.\n",
      "\n",
      "Later, the company introduced features like the ability to post 60-minute long videos, and 4,000-character long tweets, and get priority in conversations. The plan also has some legacy features like an edit tweet functionality, a thread reader, and bookmark folders.\n",
      "\n",
      "\n",
      "To increase subscribers, Twitter launched an annual plan at $84 per year earlier in January. In the last few weeks, Twitter has also launched the annual plan on both iOS and Android priced at $114.\n",
      "\n",
      "While Musk has been banking on subscription plans to bring in a ton of revenue, early results haven’t been encouraging. According to estimates and reports, the new Twitter Blue service only has less than 300,000 subscribers.\n"
     ]
    }
   ],
   "source": [
    "from contextlib import contextmanager\n",
    "@contextmanager\n",
    "def open_read_only(filename):\n",
    "  \"\"\"Open a file in read-only mode.\n",
    "\n",
    "  Args:\n",
    "    filename (str): The location of the file to read\n",
    "\n",
    "  Yields:\n",
    "    file object\n",
    "  \"\"\"\n",
    "  read_only_file = open(filename, mode='r')\n",
    "  # Yield read_only_file so it can be assigned to my_file\n",
    "  yield read_only_file\n",
    "  # Close read_only_file\n",
    "  read_only_file.close()\n",
    "\n",
    "with open_read_only(r'C:\\Users\\darias\\Desktop\\ex\\ex.txt') as my_file:\n",
    "  print(my_file.read())"
   ]
  },
  {
   "attachments": {},
   "cell_type": "markdown",
   "metadata": {},
   "source": [
    "Handling Errors\n",
    "try:\n",
    "    code that might raise as error\n",
    "except:\n",
    "    code to run if an error is raised \n",
    "else:\n",
    "    code to run if no error is raised\n",
    "finally:\n",
    "    code to run regardless of whether an error is raised"
   ]
  }
 ],
 "metadata": {
  "kernelspec": {
   "display_name": "base",
   "language": "python",
   "name": "python3"
  },
  "language_info": {
   "codemirror_mode": {
    "name": "ipython",
    "version": 3
   },
   "file_extension": ".py",
   "mimetype": "text/x-python",
   "name": "python",
   "nbconvert_exporter": "python",
   "pygments_lexer": "ipython3",
   "version": "3.9.12"
  },
  "orig_nbformat": 4
 },
 "nbformat": 4,
 "nbformat_minor": 2
}
