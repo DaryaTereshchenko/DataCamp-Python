{
 "cells": [
  {
   "cell_type": "code",
   "execution_count": null,
   "metadata": {},
   "outputs": [],
   "source": [
    "# Reading docuentations with help()\n",
    "\n",
    "# help() is a built-in function that can be used to access documentation about objects\n",
    "help(numpy.busday_count)\n"
   ]
  },
  {
   "cell_type": "code",
   "execution_count": null,
   "metadata": {},
   "outputs": [],
   "source": [
    "# PEP 8 TOOLS\n",
    "# pycodestyle package\n",
    "\n",
    "# pip install pycodestyle\n",
    "# pycodestyle dict_to_array.py\n",
    "\n"
   ]
  },
  {
   "attachments": {},
   "cell_type": "markdown",
   "metadata": {},
   "source": [
    "## Building a python package\n",
    "\n",
    "A minimal pythin package consists of 2 elements: a directory and a pythin file; \n",
    "The file in out new directory doesn't have any flexibility in naming. We must name it \"\\_\\_init\\_\\_.py\" \n",
    "This file lets pythin know that the directory contains a package.\n",
    "\n",
    "setup.py and requirements.txt\n",
    "\n",
    "requirements.txt -->\n",
    "\\#Needed packages/versions\n",
    "matplotlib\n",
    "numpy==1.15.4\n",
    "pycodestyle>=2.4.0\n",
    "\n",
    "Context of setup.py\n",
    "\n",
    "from setuptools import setup\n",
    "\n",
    "setup(name=\"my_package\",\n",
    "version=\"0.0.1\",\n",
    "description=\"My first python package\",\n",
    "author=\"Me\",\n",
    "author_email=\"\",\n",
    "packages=[\"my_package\"],\n",
    "install_requires=[\"matplotlib\", \"numpy==1.15.4\", \"pycodestyle>=2.4.0\"],\n",
    ")\n",
    "\n",
    "pip install -r requirements.txt --> allows to install everything listed in a requirenets.txt file\n"
   ]
  },
  {
   "cell_type": "code",
   "execution_count": null,
   "metadata": {},
   "outputs": [],
   "source": [
    "# class name should be written in a camel case and never use underscores \n",
    "\n",
    "#Define a minimal class with an attribute\n",
    "class MyClass:\n",
    "    \"\"\"A minimal example class\n",
    "    :param value: a value to set as the \"attribute\" of the class\n",
    "    :ivar attribute: contains the contents of \"value\" passed in init\n",
    "    \"\"\"\n",
    "\n",
    "    # Method to create a new instance of MyClass\n",
    "    def __init__(self, value):\n",
    "        # Define an attribute with the contents of the value param\n",
    "        self.attribute = value\n",
    "\n",
    "\"\"\"\n",
    "Self is a way to refer to a class instance even though we don't know the name of the instance yet.\n",
    "\"\"\"\n"
   ]
  },
  {
   "cell_type": "code",
   "execution_count": null,
   "metadata": {},
   "outputs": [],
   "source": [
    "# Import custom text_analyzer package\n",
    "import text_analyzer\n",
    "\n",
    "# Create an instance of Document with datacamp_tweet\n",
    "my_document = text_analyzer.Document(text=datacamp_tweet)\n",
    "\n",
    "# Print the text attribute of the Document instance\n",
    "print(my_document.text)"
   ]
  },
  {
   "cell_type": "code",
   "execution_count": null,
   "metadata": {},
   "outputs": [],
   "source": [
    "from .token_utils import tokenize \n",
    "\n",
    "\"\"\"\n",
    "The reason we added the tokenization process to the \\_\\_init\\_\\_ method is that we want tokenization to happen immediately without having to call a separate method.\n",
    "This way, we can be sure that the tokens attribute is always available to us.\n",
    "\"\"\"\n",
    "\n",
    "\n",
    "class Document:\n",
    "    def __init__(self, text, token_regex=r\"[a-zA-z]+\"):\n",
    "        self.text = text\n",
    "        self.tokens = self._tokenize()\n",
    "    # Private method, not publick to the user --> _ indicated that the method is private\n",
    "    def _tokenize(self):\n",
    "        return tokenize(self.text)\n",
    "doc = Document(\"test doc\")\n",
    "print(doc.tokens)"
   ]
  },
  {
   "cell_type": "code",
   "execution_count": null,
   "metadata": {},
   "outputs": [],
   "source": [
    "class Document:\n",
    "  def __init__(self, text):\n",
    "    self.text = text\n",
    "    # Tokenize the document with non-public tokenize method\n",
    "    self.tokens = self._tokenize()\n",
    "    # Perform word count with non-public count_words method\n",
    "    self.word_counts = self._count_words()\n",
    "\n",
    "  def _tokenize(self):\n",
    "    return tokenize(self.text)\n",
    "\t\n",
    "  # non-public method to tally document's word counts with Counter\n",
    "  def _count_words(self):\n",
    "    return Counter(self.tokens)"
   ]
  },
  {
   "cell_type": "code",
   "execution_count": null,
   "metadata": {},
   "outputs": [],
   "source": [
    "# create a new document instance from datacamp_tweets\n",
    "datacamp_doc = Document(datacamp_tweets)\n",
    "\n",
    "# print the first 5 tokens from datacamp_doc\n",
    "print(datacamp_doc.tokens[:5])\n",
    "\n",
    "# print the top 5 most used words in datacamp_doc\n",
    "print(datacamp_doc.word_counts.most_common(5))\n"
   ]
  },
  {
   "attachments": {},
   "cell_type": "markdown",
   "metadata": {},
   "source": [
    "## DRY: Don't Repeat Yourself"
   ]
  },
  {
   "attachments": {},
   "cell_type": "markdown",
   "metadata": {},
   "source": [
    "# Inheritance:\n",
    "we start with the parent class and we pass on its functionality to a child class. The child class inherits all the methods and attributes of its parent, and we are able to add additional functionality without affecting the parent class. "
   ]
  },
  {
   "cell_type": "code",
   "execution_count": null,
   "metadata": {},
   "outputs": [],
   "source": [
    "# Import ParentClass object\n",
    "from .parent_class import ParentClass\n",
    "\n",
    "# Create a child class with inheritance \n",
    "class ChildClass(ParentClass):\n",
    "    def __init__(self):\n",
    "        # Call parent's __init__ method \n",
    "        ParentClass.__init__(self)\n",
    "        # Add an attribute unique to the child class\n",
    "        self.child_attribute - \"I'm a child class attribute!\"\n",
    "\n",
    "child_class = ChildClass()\n",
    "print(child_class.parent_attribute)\n",
    "print(child_class.child_attribute)"
   ]
  },
  {
   "attachments": {},
   "cell_type": "markdown",
   "metadata": {},
   "source": [
    "## Multilevel Inheritance\n",
    "\n"
   ]
  },
  {
   "cell_type": "code",
   "execution_count": null,
   "metadata": {},
   "outputs": [],
   "source": [
    "class Parent:\n",
    "    def __init__(self, name):\n",
    "        self.name = name\n",
    "        print(\"Parent\")\n",
    "\n",
    "class Child(Parent):\n",
    "    def __init__(self, name):\n",
    "        Parent.__init__(self, name)\n",
    "        print(\"Child\")\n",
    "\n",
    "def SuperChild(Parent):\n",
    "    def __init__(self, name):\n",
    "        super().__init__(self, name)\n",
    "        print(\"SuperChild\")"
   ]
  },
  {
   "cell_type": "code",
   "execution_count": null,
   "metadata": {},
   "outputs": [],
   "source": [
    "# Define a Tweet class that inherits from SocialMedia\n",
    "class Tweets(SocialMedia):\n",
    "    def __init__(self, text):\n",
    "        # Call parent's __init__ with super()\n",
    "        super().__init__(self, text)\n",
    "        # Define retweets attribute with non-public method\n",
    "        self.retweets = self._process_retweets()\n",
    "\n",
    "    def _process_retweets(self):\n",
    "        # Filter tweet text to only include retweets\n",
    "        retweet_text = filter_lines(self.text, first_chars='RT')\n",
    "        # Return retweet_text as a SocialMedia object\n",
    "        return SocialMedia(retweet_text)\n"
   ]
  },
  {
   "cell_type": "code",
   "execution_count": 2,
   "metadata": {},
   "outputs": [
    {
     "data": {
      "text/plain": [
       "TestResults(failed=0, attempted=1)"
      ]
     },
     "execution_count": 2,
     "metadata": {},
     "output_type": "execute_result"
    }
   ],
   "source": [
    "# Tests \n",
    "\n",
    "# Two types of tests: doc tests and pytest \n",
    "\n",
    "def square(x):\n",
    "    \"\"\"Return the square of x.\n",
    "    :param x: number of square\n",
    "    :return: x squared\n",
    "    >>> square(2)\n",
    "    4\n",
    "    \"\"\"\n",
    "    return x * x\n",
    "\n",
    "import doctest\n",
    "doctest.testmod()\n"
   ]
  },
  {
   "cell_type": "code",
   "execution_count": null,
   "metadata": {},
   "outputs": [],
   "source": [
    "## writing unit tests\n",
    "\n",
    "from text_analyzer import Document  # class\n",
    "\n",
    "# Test tokens attribute on Document object \n",
    "def test_document_tokens():\n",
    "    doc = Document(\"a o i e u\")\n",
    "    assert doc.tokens == [\"a\", \"o\", \"i\", \"e\", \"u\"]\n",
    "\n",
    "# Test for endge cases \n",
    "\n",
    "def sum_counters(counters):\n",
    "    \"\"\"Aggregate collections.Counter objects by summing counts\n",
    "\n",
    "    :param counters: list/tuple of counters to sum\n",
    "    :return: aggregated counters with counts summed\n",
    "\n",
    "    >>> d1 = text_analyzer.Document('1 2 fizz 4 buzz fizz 7 8')\n",
    "    >>> d2 = text_analyzer.Document('fizz buzz 11 fizz 13 14')\n",
    "    >>> sum_counters([d1.word_counts, d2.word_counts])\n",
    "    Counter({'fizz': 4, 'buzz': 2})\n",
    "    \"\"\"\n",
    "    return sum(counters, Counter())\n",
    "\n",
    "doctest.testmod()"
   ]
  },
  {
   "attachments": {},
   "cell_type": "markdown",
   "metadata": {},
   "source": [
    "Sphinx is a tool that makes it easy to create intelligent and beautiful documentation, written by Georg Brandl and licensed under the BSD license.\n",
    "\n",
    "CIT - continuous integration testing \n",
    "\n",
    "Travis CI is a hosted continuous integration service used to build and test software projects hosted at GitHub and Bitbucket. Travis CI provides various paid plan for private projects, and a free plan for open source. TravisPro provides custom deployments of a proprietary version on the customer's own hardware.\n",
    "\n",
    "Codecov - Code coverage done right. Highly integrated with GitHub, Bitbucket and GitLab. Awesome pull request comments to enhance your QA.\n",
    "Code Climate - analyse your code for improvements and readability"
   ]
  },
  {
   "attachments": {},
   "cell_type": "markdown",
   "metadata": {},
   "source": []
  }
 ],
 "metadata": {
  "kernelspec": {
   "display_name": "base",
   "language": "python",
   "name": "python3"
  },
  "language_info": {
   "codemirror_mode": {
    "name": "ipython",
    "version": 3
   },
   "file_extension": ".py",
   "mimetype": "text/x-python",
   "name": "python",
   "nbconvert_exporter": "python",
   "pygments_lexer": "ipython3",
   "version": "3.9.12"
  },
  "orig_nbformat": 4
 },
 "nbformat": 4,
 "nbformat_minor": 2
}
